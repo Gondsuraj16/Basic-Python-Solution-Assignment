{
  "cells": [
    {
      "cell_type": "markdown",
      "metadata": {
        "id": "view-in-github",
        "colab_type": "text"
      },
      "source": [
        "<a href=\"https://colab.research.google.com/github/Gondsuraj16/Basic-Python-Solution-Assignment/blob/main/Python_Basics_Assignment.ipynb\" target=\"_parent\"><img src=\"https://colab.research.google.com/assets/colab-badge.svg\" alt=\"Open In Colab\"/></a>"
      ]
    },
    {
      "cell_type": "markdown",
      "id": "1b370f21",
      "metadata": {
        "id": "1b370f21"
      },
      "source": [
        "# Python Basics Assignment\n"
      ]
    },
    {
      "cell_type": "markdown",
      "id": "be117fe7",
      "metadata": {
        "id": "be117fe7"
      },
      "source": [
        "### 1. What is Python, and why is it popular\n",
        "Python is a high-level, interpreted programming language known for its simplicity and readability. It is popular due to its extensive libraries, community support, and applicability in web development, data science, automation, and more."
      ]
    },
    {
      "cell_type": "markdown",
      "id": "9147684e",
      "metadata": {
        "id": "9147684e"
      },
      "source": [
        "### 2. What is an interpreter in Python\n",
        "An interpreter is a program that executes Python code line by line. It converts high-level code into machine code during runtime."
      ]
    },
    {
      "cell_type": "markdown",
      "id": "af99f4b7",
      "metadata": {
        "id": "af99f4b7"
      },
      "source": [
        "### 3. What are pre-defined keywords in Python\n",
        "Pre-defined keywords are reserved words in Python that have special meanings and cannot be used as identifiers. Examples include `if`, `else`, `for`, `while`, etc."
      ]
    },
    {
      "cell_type": "markdown",
      "id": "c86be2cd",
      "metadata": {
        "id": "c86be2cd"
      },
      "source": [
        "### 4. Can keywords be used as variable names\n",
        "No, keywords cannot be used as variable names because they are reserved for special syntactic uses in Python."
      ]
    },
    {
      "cell_type": "markdown",
      "id": "c381e4ff",
      "metadata": {
        "id": "c381e4ff"
      },
      "source": [
        "### 5. What is mutability in Python\n",
        "Mutability refers to whether or not an object’s state can be modified after it is created. Mutable objects can be changed, immutable objects cannot."
      ]
    },
    {
      "cell_type": "markdown",
      "id": "2c3da15b",
      "metadata": {
        "id": "2c3da15b"
      },
      "source": [
        "### 6. Why are lists mutable, but tuples are immutable\n",
        "Lists are designed to allow changes like adding, removing, or updating elements. Tuples are immutable for performance and to ensure data integrity, especially when used as dictionary keys."
      ]
    },
    {
      "cell_type": "markdown",
      "id": "35040153",
      "metadata": {
        "id": "35040153"
      },
      "source": [
        "### 7. What is the difference between “==” and “is” operators in Python\n",
        "`==` compares values for equality, while `is` checks if two references point to the same object in memory."
      ]
    },
    {
      "cell_type": "markdown",
      "id": "d945a574",
      "metadata": {
        "id": "d945a574"
      },
      "source": [
        "### 8. What are logical operators in Python\n",
        "Logical operators in Python include `and`, `or`, and `not`, which are used to combine conditional statements."
      ]
    },
    {
      "cell_type": "markdown",
      "id": "16e747d2",
      "metadata": {
        "id": "16e747d2"
      },
      "source": [
        "### 9. What is type casting in Python\n",
        "Type casting is the process of converting one data type into another, such as converting a string to an integer."
      ]
    },
    {
      "cell_type": "markdown",
      "id": "afe385aa",
      "metadata": {
        "id": "afe385aa"
      },
      "source": [
        "### 10. What is the difference between implicit and explicit type casting\n",
        "Implicit casting is done automatically by Python, whereas explicit casting is done manually using functions like `int()`, `float()`, etc."
      ]
    },
    {
      "cell_type": "markdown",
      "id": "afe77297",
      "metadata": {
        "id": "afe77297"
      },
      "source": [
        "### 11. What is the purpose of conditional statements in Python\n",
        "Conditional statements are used to perform different actions based on different conditions using `if`, `elif`, and `else`."
      ]
    },
    {
      "cell_type": "markdown",
      "id": "de0a0487",
      "metadata": {
        "id": "de0a0487"
      },
      "source": [
        "### 12. How does the elif statement work\n",
        "`elif` checks another condition if the previous `if` or `elif` condition was False. It helps in checking multiple conditions."
      ]
    },
    {
      "cell_type": "markdown",
      "id": "2c9075d2",
      "metadata": {
        "id": "2c9075d2"
      },
      "source": [
        "### 13. What is the difference between for and while loops\n",
        "`for` loops are used when the number of iterations is known. `while` loops are used when the condition must be checked repeatedly until it becomes False."
      ]
    },
    {
      "cell_type": "markdown",
      "id": "363a44b8",
      "metadata": {
        "id": "363a44b8"
      },
      "source": [
        "### 14. Describe a scenario where a while loop is more suitable than a for loop.\n",
        "A `while` loop is more suitable when waiting for user input or monitoring a condition until a particular state is reached."
      ]
    },
    {
      "cell_type": "markdown",
      "source": [
        "##Practical Questions"
      ],
      "metadata": {
        "id": "qLL4Ov2GASTa"
      },
      "id": "qLL4Ov2GASTa"
    },
    {
      "cell_type": "markdown",
      "id": "98f6ce50",
      "metadata": {
        "id": "98f6ce50"
      },
      "source": [
        "### 1. Write a Python program to print \"Hello, World!\""
      ]
    },
    {
      "cell_type": "code",
      "execution_count": 5,
      "id": "d399a63e",
      "metadata": {
        "colab": {
          "base_uri": "https://localhost:8080/"
        },
        "id": "d399a63e",
        "outputId": "09ee5ef8-6ea3-4770-f2a9-fc859a4df82e"
      },
      "outputs": [
        {
          "output_type": "stream",
          "name": "stdout",
          "text": [
            "Hello, World!\n"
          ]
        }
      ],
      "source": [
        "print(\"Hello, World!\")"
      ]
    },
    {
      "cell_type": "markdown",
      "id": "b1784cdb",
      "metadata": {
        "id": "b1784cdb"
      },
      "source": [
        "### 2. Write a Python program that displays your name and age"
      ]
    },
    {
      "cell_type": "code",
      "execution_count": 6,
      "id": "3807c144",
      "metadata": {
        "colab": {
          "base_uri": "https://localhost:8080/"
        },
        "id": "3807c144",
        "outputId": "22d21846-e4f3-4e40-ce8f-0792bb0e3151"
      },
      "outputs": [
        {
          "output_type": "stream",
          "name": "stdout",
          "text": [
            "My name is SURAJ KUMAR GOND and I am 24 years old.\n"
          ]
        }
      ],
      "source": [
        "name = \"SURAJ KUMAR GOND\"\n",
        "age = 24\n",
        "print(f\"My name is {name} and I am {age} years old.\")"
      ]
    },
    {
      "cell_type": "markdown",
      "id": "75636050",
      "metadata": {
        "id": "75636050"
      },
      "source": [
        "### 3. Write code to print all the pre-defined keywords in Python using the keyword library"
      ]
    },
    {
      "cell_type": "code",
      "execution_count": 7,
      "id": "837742b8",
      "metadata": {
        "colab": {
          "base_uri": "https://localhost:8080/"
        },
        "id": "837742b8",
        "outputId": "ced7a5e6-bd72-45c4-a657-e3140739fb14"
      },
      "outputs": [
        {
          "output_type": "stream",
          "name": "stdout",
          "text": [
            "['False', 'None', 'True', 'and', 'as', 'assert', 'async', 'await', 'break', 'class', 'continue', 'def', 'del', 'elif', 'else', 'except', 'finally', 'for', 'from', 'global', 'if', 'import', 'in', 'is', 'lambda', 'nonlocal', 'not', 'or', 'pass', 'raise', 'return', 'try', 'while', 'with', 'yield']\n"
          ]
        }
      ],
      "source": [
        "import keyword\n",
        "print(keyword.kwlist)"
      ]
    },
    {
      "cell_type": "markdown",
      "id": "18271848",
      "metadata": {
        "id": "18271848"
      },
      "source": [
        "### 4. Write a program that checks if a given word is a Python keyword."
      ]
    },
    {
      "cell_type": "code",
      "execution_count": 8,
      "id": "8aea271a",
      "metadata": {
        "colab": {
          "base_uri": "https://localhost:8080/"
        },
        "id": "8aea271a",
        "outputId": "228019b5-56af-4a3d-eb2f-391369a5f562"
      },
      "outputs": [
        {
          "output_type": "stream",
          "name": "stdout",
          "text": [
            "Enter a word: suaraj\n",
            "suaraj is a keyword: False\n"
          ]
        }
      ],
      "source": [
        "import keyword\n",
        "word = input(\"Enter a word: \")\n",
        "print(f\"{word} is a keyword: {keyword.iskeyword(word)}\")"
      ]
    },
    {
      "cell_type": "markdown",
      "id": "04296cd4",
      "metadata": {
        "id": "04296cd4"
      },
      "source": [
        "### 5. Create a list and tuple in Python, and demonstrate how attempting to change an element works differently for each."
      ]
    },
    {
      "cell_type": "code",
      "execution_count": 9,
      "id": "27cd734e",
      "metadata": {
        "colab": {
          "base_uri": "https://localhost:8080/"
        },
        "id": "27cd734e",
        "outputId": "afdd24e5-ca26-423f-a3fc-da54850e979e"
      },
      "outputs": [
        {
          "output_type": "stream",
          "name": "stdout",
          "text": [
            "Modified list: [100, 2, 3]\n",
            "Tuple: (1, 2, 3)\n"
          ]
        }
      ],
      "source": [
        "my_list = [1, 2, 3]\n",
        "my_tuple = (1, 2, 3)\n",
        "my_list[0] = 100  # This will work\n",
        "print(\"Modified list:\", my_list)\n",
        "# my_tuple[0] = 100  # This will raise an error\n",
        "print(\"Tuple:\", my_tuple)"
      ]
    },
    {
      "cell_type": "markdown",
      "id": "45a8efc0",
      "metadata": {
        "id": "45a8efc0"
      },
      "source": [
        "### 6. Write a function to demonstrate the behavior of mutable and immutable arguments."
      ]
    },
    {
      "cell_type": "code",
      "execution_count": 10,
      "id": "f798308d",
      "metadata": {
        "colab": {
          "base_uri": "https://localhost:8080/"
        },
        "id": "f798308d",
        "outputId": "7dc81f04-836b-4274-9fe8-48384999df38"
      },
      "outputs": [
        {
          "output_type": "stream",
          "name": "stdout",
          "text": [
            "List after function call: [1, 2, 3, 100]\n",
            "Integer after function call: 5\n"
          ]
        }
      ],
      "source": [
        "def modify_list(lst):\n",
        "    lst.append(100)\n",
        "\n",
        "def modify_int(n):\n",
        "    n += 10\n",
        "\n",
        "my_list = [1, 2, 3]\n",
        "my_int = 5\n",
        "modify_list(my_list)\n",
        "modify_int(my_int)\n",
        "print(\"List after function call:\", my_list)\n",
        "print(\"Integer after function call:\", my_int)"
      ]
    },
    {
      "cell_type": "markdown",
      "id": "032ce8a1",
      "metadata": {
        "id": "032ce8a1"
      },
      "source": [
        "### 7. Write a program that performs basic arithmetic operations on two user-input numbers."
      ]
    },
    {
      "cell_type": "code",
      "execution_count": null,
      "id": "abf3ce60",
      "metadata": {
        "id": "abf3ce60"
      },
      "outputs": [],
      "source": [
        "a = float(input(\"Enter first number: \"))\n",
        "b = float(input(\"Enter second number: \"))\n",
        "print(\"Sum:\", a + b)\n",
        "print(\"Difference:\", a - b)\n",
        "print(\"Multiplication:\", a * b)\n",
        "print(\"Division:\", a / b)"
      ]
    },
    {
      "cell_type": "markdown",
      "id": "e2205a56",
      "metadata": {
        "id": "e2205a56"
      },
      "source": [
        "### 8. Write a program to demonstrate the use of logical operators."
      ]
    },
    {
      "cell_type": "code",
      "execution_count": null,
      "id": "9292c42b",
      "metadata": {
        "id": "9292c42b"
      },
      "outputs": [],
      "source": [
        "a = True\n",
        "b = False\n",
        "print(\"a and b:\", a and b)\n",
        "print(\"a or b:\", a or b)\n",
        "print(\"not a:\", not a)"
      ]
    },
    {
      "cell_type": "markdown",
      "id": "cca132d2",
      "metadata": {
        "id": "cca132d2"
      },
      "source": [
        "### 9. Write a Python program to convert user input from string to integer, float, and boolean types."
      ]
    },
    {
      "cell_type": "code",
      "execution_count": null,
      "id": "8fc97b7e",
      "metadata": {
        "id": "8fc97b7e"
      },
      "outputs": [],
      "source": [
        "s = input(\"Enter a number: \")\n",
        "print(\"As integer:\", int(s))\n",
        "print(\"As float:\", float(s))\n",
        "print(\"As boolean:\", bool(s))"
      ]
    },
    {
      "cell_type": "markdown",
      "id": "26129198",
      "metadata": {
        "id": "26129198"
      },
      "source": [
        "### 10. Write code to demonstrate type casting with list elements."
      ]
    },
    {
      "cell_type": "code",
      "execution_count": null,
      "id": "1ab752ed",
      "metadata": {
        "id": "1ab752ed"
      },
      "outputs": [],
      "source": [
        "my_list = [\"1\", \"2\", \"3\"]\n",
        "int_list = [int(x) for x in my_list]\n",
        "print(\"Original:\", my_list)\n",
        "print(\"Converted:\", int_list)"
      ]
    },
    {
      "cell_type": "markdown",
      "id": "bf616664",
      "metadata": {
        "id": "bf616664"
      },
      "source": [
        "### 11. Write a program that checks if a number is positive, negative, or zero."
      ]
    },
    {
      "cell_type": "code",
      "execution_count": null,
      "id": "d61167e1",
      "metadata": {
        "id": "d61167e1"
      },
      "outputs": [],
      "source": [
        "num = float(input(\"Enter a number: \"))\n",
        "if num > 0:\n",
        "    print(\"Positive\")\n",
        "elif num < 0:\n",
        "    print(\"Negative\")\n",
        "else:\n",
        "    print(\"Zero\")"
      ]
    },
    {
      "cell_type": "markdown",
      "id": "32f6ce7a",
      "metadata": {
        "id": "32f6ce7a"
      },
      "source": [
        "### 12. Write a for loop to print numbers from 1 to 10."
      ]
    },
    {
      "cell_type": "code",
      "execution_count": null,
      "id": "28545c64",
      "metadata": {
        "id": "28545c64"
      },
      "outputs": [],
      "source": [
        "for i in range(1, 11):\n",
        "    print(i)"
      ]
    },
    {
      "cell_type": "markdown",
      "id": "4ba47db0",
      "metadata": {
        "id": "4ba47db0"
      },
      "source": [
        "### 13. Write a Python program to find the sum of all even numbers between 1 and 50."
      ]
    },
    {
      "cell_type": "code",
      "execution_count": null,
      "id": "1a4a6269",
      "metadata": {
        "id": "1a4a6269"
      },
      "outputs": [],
      "source": [
        "total = 0\n",
        "for i in range(1, 51):\n",
        "    if i % 2 == 0:\n",
        "        total += i\n",
        "print(\"Sum of even numbers from 1 to 50:\", total)"
      ]
    },
    {
      "cell_type": "markdown",
      "id": "73cac996",
      "metadata": {
        "id": "73cac996"
      },
      "source": [
        "### 14. Write a program to reverse a string using a while loop."
      ]
    },
    {
      "cell_type": "code",
      "execution_count": null,
      "id": "f783569e",
      "metadata": {
        "id": "f783569e"
      },
      "outputs": [],
      "source": [
        "s = input(\"Enter a string: \")\n",
        "reversed_str = \"\"\n",
        "i = len(s) - 1\n",
        "while i >= 0:\n",
        "    reversed_str += s[i]\n",
        "    i -= 1\n",
        "print(\"Reversed string:\", reversed_str)"
      ]
    },
    {
      "cell_type": "markdown",
      "id": "6f28c423",
      "metadata": {
        "id": "6f28c423"
      },
      "source": [
        "### 15. Write a Python program to calculate the factorial of a number provided by the user using a while loop."
      ]
    },
    {
      "cell_type": "code",
      "execution_count": null,
      "id": "29ea96ef",
      "metadata": {
        "id": "29ea96ef"
      },
      "outputs": [],
      "source": [
        "num = int(input(\"Enter a number: \"))\n",
        "factorial = 1\n",
        "while num > 1:\n",
        "    factorial *= num\n",
        "    num -= 1\n",
        "print(\"Factorial:\", factorial)"
      ]
    }
  ],
  "metadata": {
    "colab": {
      "provenance": [],
      "include_colab_link": true
    },
    "language_info": {
      "name": "python"
    },
    "kernelspec": {
      "name": "python3",
      "display_name": "Python 3"
    }
  },
  "nbformat": 4,
  "nbformat_minor": 5
}